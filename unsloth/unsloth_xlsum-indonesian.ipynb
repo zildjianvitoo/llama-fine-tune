{
 "cells": [
  {
   "cell_type": "markdown",
   "id": "d9918641-17e2-43b4-b553-4570713d7fcf",
   "metadata": {
    "jp-MarkdownHeadingCollapsed": true
   },
   "source": [
    "## Library"
   ]
  },
  {
   "cell_type": "code",
   "execution_count": 1,
   "id": "24f9c177-2f0b-4ff8-bbd8-9f8f33783f3d",
   "metadata": {},
   "outputs": [],
   "source": [
    "import json\n",
    "import random\n",
    "from datasets import load_dataset, Dataset\n",
    "from typing import List, Dict\n",
    "import pandas as pd\n",
    "from pathlib import Path"
   ]
  },
  {
   "cell_type": "markdown",
   "id": "26e7af51-eb16-4ab1-9a97-d7330647dc3d",
   "metadata": {
    "jp-MarkdownHeadingCollapsed": true
   },
   "source": [
    "## Data Preparation"
   ]
  },
  {
   "cell_type": "markdown",
   "id": "e30df25b-05b4-4a2c-9e17-d890443d1213",
   "metadata": {
    "jp-MarkdownHeadingCollapsed": true
   },
   "source": [
    "### Download Data"
   ]
  },
  {
   "cell_type": "code",
   "execution_count": 2,
   "id": "ab54d58d-d560-42b3-9eac-b1fc5cd5f6c0",
   "metadata": {
    "editable": true,
    "slideshow": {
     "slide_type": ""
    },
    "tags": []
   },
   "outputs": [],
   "source": [
    "# Define the dataset and subset\n",
    "dataset_name = \"csebuetnlp/xlsum\"\n",
    "language_subset = \"indonesian\"\n",
    "output_dir = Path(\"dataset/xlsum-indonesian\")\n",
    "\n",
    "# Create the output directory if it doesn't exist\n",
    "output_dir.mkdir(parents=True, exist_ok=True)\n",
    "\n",
    "# Load the dataset\n",
    "dataset = load_dataset(dataset_name, language_subset, split = \"train\")"
   ]
  },
  {
   "cell_type": "code",
   "execution_count": 3,
   "id": "fed70743-af5e-4678-abd9-a62e7fd9a600",
   "metadata": {},
   "outputs": [
    {
     "name": "stdout",
     "output_type": "stream",
     "text": [
      "['id', 'url', 'title', 'summary', 'text']\n"
     ]
    }
   ],
   "source": [
    "print(dataset.column_names)"
   ]
  },
  {
   "cell_type": "code",
   "execution_count": 5,
   "id": "518ba3b5-9b96-4b65-b694-01113affa579",
   "metadata": {},
   "outputs": [
    {
     "name": "stdout",
     "output_type": "stream",
     "text": [
      "{'id': 'media-49647079', 'url': 'https://www.bbc.com/indonesia/media-49647079', 'title': 'Gajah mengamuk saat upacara keagamaan, 17 orang terluka', 'summary': 'Seekor gajah mendadak mengamuk saat prosesi tahunan agama Buddha di Kolombo, Sri Lanka, sehingga membuat peserta upacara tunggang-langgang. Setidaknya 17 orang terluka.', 'text': 'Dilaporkan dua orang terluka cukup serius, sementara sisanya sudah diperbolehkan pulang setelah mendapatkan perawatan. Video gajah yang mengamuk itu kontan viral di media sosial. Si gajah berlari tak tentu arah, menabrak serta menginjak sebagian peserta upacara. Simak juga: Belum diketahui penyebab gajah tersebut tiba-tiba mengamuk. Diduga gajah itu kaget oleh sesuatu di antara para peserta dan pengunjung. Media setempat melaporkan gajah lain yang juga mengamuk di prosesi berbeda. Gajah hias merupakan daya tarik tersendiri dalam upacara keagamaan di Sri Lanka. Bagi warga Sri Lanka, memiliki gajah adalah simbol status. Beberapa kuil di Sri Lanka juga memiliki gajah untuk keperluan upacara.'}\n"
     ]
    }
   ],
   "source": [
    "print(dataset['train'][0])"
   ]
  },
  {
   "cell_type": "markdown",
   "id": "71c7345d-7bc1-437f-aa7d-01a741256526",
   "metadata": {},
   "source": [
    "Save to CSV"
   ]
  },
  {
   "cell_type": "code",
   "execution_count": 6,
   "id": "c35d6030-3c0c-424f-8ece-f16cde185fe1",
   "metadata": {},
   "outputs": [
    {
     "name": "stdout",
     "output_type": "stream",
     "text": [
      "Saved train split to dataset/xlsum-indonesian/xlsum_indonesian_train.csv\n",
      "Saved test split to dataset/xlsum-indonesian/xlsum_indonesian_test.csv\n",
      "Saved validation split to dataset/xlsum-indonesian/xlsum_indonesian_validation.csv\n"
     ]
    }
   ],
   "source": [
    "for split in [\"train\", \"test\", \"validation\"]:\n",
    "    df = pd.DataFrame(dataset[split])  # Convert to Pandas DataFrame\n",
    "    output_file = output_dir / f\"xlsum_indonesian_{split}.csv\"\n",
    "    df.to_csv(output_file, index=False, encoding=\"utf-8\")\n",
    "    print(f\"Saved {split} split to {output_file}\")"
   ]
  },
  {
   "cell_type": "markdown",
   "id": "83e268b3-2e0f-4c44-bcc7-850dda52e9d5",
   "metadata": {
    "jp-MarkdownHeadingCollapsed": true
   },
   "source": [
    "### Load Dataset"
   ]
  },
  {
   "cell_type": "code",
   "execution_count": 2,
   "id": "fb634c4b-feb1-4eb4-b457-e08a47652692",
   "metadata": {},
   "outputs": [],
   "source": [
    "train_path = \"dataset/xlsum-indonesian/xlsum_indonesian_train.csv\"\n",
    "test_path = \"dataset/xlsum-indonesian/xlsum_indonesian_test.csv\"\n",
    "validation_path = \"dataset/xlsum-indonesian/xlsum_indonesian_validation.csv\"\n",
    "\n",
    "dataset = load_dataset(\"csv\", data_files={\n",
    "    \"train\": train_path,\n",
    "    \"test\": test_path,\n",
    "    \"validation\": validation_path\n",
    "})"
   ]
  },
  {
   "cell_type": "code",
   "execution_count": 3,
   "id": "4b255f57-0fb2-41e4-b62d-871f5c57cb9c",
   "metadata": {},
   "outputs": [
    {
     "data": {
      "text/plain": [
       "{'id': 'media-49647079',\n",
       " 'url': 'https://www.bbc.com/indonesia/media-49647079',\n",
       " 'title': 'Gajah mengamuk saat upacara keagamaan, 17 orang terluka',\n",
       " 'summary': 'Seekor gajah mendadak mengamuk saat prosesi tahunan agama Buddha di Kolombo, Sri Lanka, sehingga membuat peserta upacara tunggang-langgang. Setidaknya 17 orang terluka.',\n",
       " 'text': 'Dilaporkan dua orang terluka cukup serius, sementara sisanya sudah diperbolehkan pulang setelah mendapatkan perawatan. Video gajah yang mengamuk itu kontan viral di media sosial. Si gajah berlari tak tentu arah, menabrak serta menginjak sebagian peserta upacara. Simak juga: Belum diketahui penyebab gajah tersebut tiba-tiba mengamuk. Diduga gajah itu kaget oleh sesuatu di antara para peserta dan pengunjung. Media setempat melaporkan gajah lain yang juga mengamuk di prosesi berbeda. Gajah hias merupakan daya tarik tersendiri dalam upacara keagamaan di Sri Lanka. Bagi warga Sri Lanka, memiliki gajah adalah simbol status. Beberapa kuil di Sri Lanka juga memiliki gajah untuk keperluan upacara.'}"
      ]
     },
     "execution_count": 3,
     "metadata": {},
     "output_type": "execute_result"
    }
   ],
   "source": [
    "dataset['train'][0]"
   ]
  },
  {
   "cell_type": "markdown",
   "id": "5a1f5a30-eee3-4aef-9207-a644aa2ae92e",
   "metadata": {},
   "source": [
    "### Convert to sharegpt"
   ]
  },
  {
   "cell_type": "markdown",
   "id": "fe511b63-779f-4926-a67d-2c202c473d9e",
   "metadata": {
    "jp-MarkdownHeadingCollapsed": true
   },
   "source": [
    "#### Unsloth "
   ]
  },
  {
   "cell_type": "code",
   "execution_count": null,
   "id": "d0ea2c4a-9df4-4162-8148-c47bf23cbd33",
   "metadata": {
    "editable": true,
    "slideshow": {
     "slide_type": ""
    },
    "tags": []
   },
   "outputs": [],
   "source": [
    "# this code doesnt work, out of index bug\n",
    "# \n",
    "# from unsloth import to_sharegpt\n",
    "# train_dataset = to_sharegpt(\n",
    "#     dataset['validation'],\n",
    "#     merged_prompt= \\\n",
    "#         \"[[Provide a summary for the following article in its original language:]]\"\\\n",
    "#         \"[[\\nTitle: {title}]]\"\\\n",
    "#         \"[[\\nContent: {text}]]\"\\\n",
    "#         \"[[\\nSummarize below:]]\",\n",
    "#     conversation_extension=2,  # Randomly combines conversations \n",
    "#     output_column_name=\"summary\",  # Use the \"summary\" column as the target\n",
    "# )\n"
   ]
  },
  {
   "cell_type": "markdown",
   "id": "56e69ee8-fda0-475c-8692-18c40ef81fcc",
   "metadata": {
    "jp-MarkdownHeadingCollapsed": true
   },
   "source": [
    "#### Manual"
   ]
  },
  {
   "cell_type": "code",
   "execution_count": 4,
   "id": "dc664696-23ba-402d-ab88-1abe13dcc088",
   "metadata": {},
   "outputs": [],
   "source": [
    "def convert_to_sharegpt_format(example):\n",
    "    \"\"\"\n",
    "    Convert a single XLSum example to ShareGPT format.\n",
    "    \"\"\"\n",
    "    human_message = {\n",
    "        \"from\": \"human\",\n",
    "        \"value\": f\"Provide a summary for the following article in its original language: \\nTitle: {example['title']} \\nContent: {example['text']} \\nSummary:\"\n",
    "    }\n",
    "    \n",
    "    gpt_message = {\n",
    "        \"from\": \"gpt\",\n",
    "        \"value\": example['summary']\n",
    "    }\n",
    "    \n",
    "    return [human_message, gpt_message]\n",
    "\n",
    "def create_extended_conversation(examples: List[Dict], conversation_extension: int) -> List[Dict]:\n",
    "    \"\"\"\n",
    "    Create an extended conversation by combining multiple examples.\n",
    "    \n",
    "    Args:\n",
    "        examples: List of dataset examples to sample from\n",
    "        conversation_extension: Number of examples to combine into one conversation\n",
    "    \n",
    "    Returns:\n",
    "        List of messages forming a single extended conversation\n",
    "    \"\"\"\n",
    "    # Randomly sample the specified number of examples\n",
    "    selected_examples = random.sample(examples, min(conversation_extension, len(examples)))\n",
    "    \n",
    "    # Convert each example and combine their messages\n",
    "    extended_conversation = []\n",
    "    for example in selected_examples:\n",
    "        conversation_pair = convert_to_sharegpt_format(example)\n",
    "        extended_conversation.extend(conversation_pair)\n",
    "    \n",
    "    return extended_conversation\n",
    "\n",
    "def process_dataset(dataset, conversation_extension: int = 1):\n",
    "    \"\"\"\n",
    "    Process the dataset and convert to ShareGPT format with optional conversation extension.\n",
    "    \n",
    "    Args:\n",
    "        dataset: The input dataset\n",
    "        conversation_extension: Number of examples to combine into one conversation\n",
    "    \n",
    "    Returns:\n",
    "        Dataset object with conversations column\n",
    "    \"\"\"\n",
    "    processed_data = []\n",
    "    \n",
    "    # Process each split in the dataset\n",
    "    for split in dataset.keys():\n",
    "        print(f\"Processing {split} split...\")\n",
    "        examples = list(dataset[split])\n",
    "        \n",
    "        # Calculate number of conversations needed\n",
    "        num_conversations = len(examples) // conversation_extension\n",
    "        \n",
    "        # Create extended conversations\n",
    "        for i in range(num_conversations):\n",
    "            start_idx = i * conversation_extension\n",
    "            end_idx = start_idx + conversation_extension\n",
    "            conversation_examples = examples[start_idx:end_idx]\n",
    "            \n",
    "            # Create extended conversation\n",
    "            if conversation_extension > 1:\n",
    "                conversation = create_extended_conversation(conversation_examples, conversation_extension)\n",
    "            else:\n",
    "                conversation = convert_to_sharegpt_format(conversation_examples[0])\n",
    "            \n",
    "            processed_data.append({\"conversations\": conversation})\n",
    "    \n",
    "    # Convert to Dataset object\n",
    "    return Dataset.from_list(processed_data)\n",
    "\n",
    "def save_sharegpt_format(dataset, output_path):\n",
    "    \"\"\"\n",
    "    Save the converted data in JSONL format.\n",
    "    \"\"\"\n",
    "    with open(output_path, 'w', encoding='utf-8') as f:\n",
    "        for item in dataset:\n",
    "            f.write(json.dumps(item['conversations'], ensure_ascii=False) + '\\n')"
   ]
  },
  {
   "cell_type": "code",
   "execution_count": 5,
   "id": "f1dc7751-7b9d-4407-8e72-ab4ab137581c",
   "metadata": {},
   "outputs": [
    {
     "name": "stdout",
     "output_type": "stream",
     "text": [
      "Processing train split...\n",
      "Processing test split...\n",
      "Processing validation split...\n"
     ]
    }
   ],
   "source": [
    "# Set conversation extension (e.g., 3 for combining 3 examples into one conversation)\n",
    "conversation_extension = 3\n",
    "\n",
    "# Convert to ShareGPT format with conversation extension\n",
    "processed_dataset = process_dataset(dataset, conversation_extension)"
   ]
  },
  {
   "cell_type": "code",
   "execution_count": 6,
   "id": "dca1bd4d-3ce7-4ed5-a785-57a1ca0357f3",
   "metadata": {
    "scrolled": true
   },
   "outputs": [
    {
     "name": "stdout",
     "output_type": "stream",
     "text": [
      "\n",
      "Sample conversation:\n",
      "[\n",
      "  {\n",
      "    \"from\": \"human\",\n",
      "    \"value\": \"Provide a summary for the following article in its original language: \\nTitle: Apa alasan pemerintah pangkas 14 dalam daftar Proyek Strategis Nasional ? \\nContent: Proyek MRT Sudirman- Lebak Bulus tengah dikerjakan, namun untuk koridor Timur -Barat dicabut dari PSN. Pembangunan prasarana didengungkan sebagai ujung tombak pemerintahan Presiden Joko Widodo dengan sasaran 245 proyek hingga tahun 2019 mendatang namun setahun sebelum batas waktu itu, 14 di antaranya dicoret dari daftar Proyek Strategis Nasional dengan alasan pengerjaan fisiknya tidak dapat dimulai sebelum kuartal III-2019. Pemangkasan proyek tersebut dilakukan setelah adanya evaluasi KPPIP di Kementerian Koordinator Bidang Perekonomian. Ketua Tim Pelaksana KPPIP Wahyu Utomo mengatakan berdasarkan evaluasi proyek tersebut tidak dapat memenuhi kriteria. \\\"Nah kriteria yang kita pakai adalah utamanya kita minta proyek itu bisa dilakukan dimulai kontruksinya paling lambat sebelum kuartal III - 2019, jadi proyek yang tak bisa pekerjaan fisiknya sebelum kuartal III - 2019 kita usulkan statusnya kita lepas dulu sebagai PSN,\\\" jelas Wahyu. Empat belas proyek yang dikeluarkan dari daftar PSN ini memiliki nilai investasi sebesar Rp264 triliun. Wahyu menegaskan pencabutan proyek dari PSN itu bukan karena masalah anggaran. \\\"Tidak, coba Anda lihat datanya ya anggaran untuk infrastukrur itu makin meningkat setiap tahunnya, jadi tak ada hubungannya alasan bahwa karena tidak ada dana segala macam. \\\"Tapi upaya untuk mempercepatnya kita melibatkan swasta kita dorong, dari awal kita begitu niatnya. Uang APBN ini kita gunakan sebagai pendamping atau Viability Gap Funding untuk proyek kerja sama pemerintah swasta KPS,\\\" jelas dia. Sejumlah proyek yang dicabut dari PSN antara lain Kawasan Ekonomi Khusus (KEK) Merauke, MRT di Jakarta dan juga pembangunan jalan kereta api di wilayah Sumatera Selatan serta bandara di pulau Sebatik. \\\"Kajian Kementerian Perhubungan tidak dibutuhkan segera karena arus penumpang masih dapat ditampung di Bandara Nunukan yang letaknya berdekatan,\\\" kata Wahyu. Jokowi ketika memantau proyek Mass Rapid Transport (MRT) di Jakarta. Sementara proyek lain yang melibatkan anggaran dari donor, masih harus menyelesaikan syarat. \\\"Masalah eksternal, rencana mau dikasih pinjaman dari luar negeri sudah masuk tapi dari negara donor itu mensyaratkan ada kajian dulu, jadi ini kan jadi persyaratan untuk turunnya loan,\\\" jelas Wahyu. Sementara itu, untuk pembangunan kereta api di wilayah Sumatera Selatan akan tetap dilakukan namun menunggu kajian proyek selesai. Kabag Humas Pemerintah Provinsi Sumatera Selatan M Iqbal Alisyahbana mengatakan pencabutan proyek pembangunan sejumlah jalan kereta melintasi wilayahnya akan berdampak pada perekonomian daerahnya. \\\"Mau bagaimana lagi, mungkin pemerintah ada proyek lain yang lebih diprioritasnya, meski sebenarnya sangat bagus bagi perekonomian Sumsel dibangun tepat waktu ya,\\\" jelas Iqbal. Evaluasi penting agar tak sia-sia Pengamat kebijakan publik Agus Pambagyo menyebutkan evaluasi yang dilakukan oleh pemerintah terhadap proyek startegis penting dilakukan agar proyek yang dijalankan dapat berdampak pada ekonomi masyarakat dan juga tidak sia-sia. Dia menyoroti pembangunan kereta bandara dan juga sky train yang tidak dirasakan manfaatnya. \\\"Kebijakan membangun rel untuk kereta waktu itu setelah tujuh atau delapan tahun tidak ada kabarnya jadi dipakai oleh KRL. \\\"Kalau sekarang dibagi dua itu ada problem bagi KRL karena harus dikurangi, lalu ada perubahan desain dari sky train itu tadinya di dalam, jadi yang naik sky train sudah pegang boarding pass,\\\" jelas Agus. \\\"Apa bedanya sky train dengan bus Damri, itu yang saya tanyakan tapi ya dikerjakan terus\\\". Stasiun kereta bandara yang berada di Dukuh Atas, menurut Agus, juga membuat warga enggan untuk naik kereta terutama yang tinggal jauh dari pusat kota. Kecelakaan kerja terjadi di proyek tol Becakayu pada Februari lalu, melukai tujuh pekerja. Cegah proyek mangkrak Wahyu menjelaskan evaluasi dilakukan pemerintah untuk memastikan proyek lain yang dilakukan dapat dimulai pembangunannya sebelum pemerintahan berakhir pada akhir tahun ini. Apakah ini dilakukan untuk mencegah proyek mangkrak? \\\"Bisa dbilang begitu, karena kita tidak mau bicara proyek mangkrak ya, tapi kalau proyek itu sudah mulai itu akan lebih cenderung untuk terus dikerjakan. Itu saja sih. Kita tak ngomong begitu, karena proyek yang sudah dilepaskan statusnya dari PSN masih terus dikerjakan karena tidak dikeluarkan dari RPJMN,\\\" jelas Wahyu. Namun meski tidak lagi tercantum dalam PSN, menurut Wahyu, proyek-proyek tersebut masih termasuk dalam Rencana Pembangunan Jangka Menengah Nasional (RPJMN). Menurut Agus, evaluasi merupakan jalan yang terbaik untuk menghindari proyek mangkrak, karena Proyek Strategis Nasional dikerjakan berdasarkan peraturan presiden, sehingga sudah ditetapkan pelaksanaannya. \\\"Semua proyek biasanya pakai perpres karena percepatan, dari pada melanggar perpres jadi sebaiknya dibatalkan,\\\" kata Agus. Transparansi perencanaan Direktur Institute for Development of Economics and Finance (INDEF) Enny Sri Hartati mengatakan penentuan dan pemangkasan proyek dalam PSN merupakan wewenang pemerintah, namun yang penting keputusan tersebut harus dilakukan secara transparan. \\\"Yang utama adalah menurut saya, adalah mengapa 14 proyek itu dtunda, penundaan itu apakah disebabkan pemerintah mengalihkan itu,\\\" ujar Enny. Enny mengatakan yang harus dijelaskan misalnya dalam evaluasi ternyata proyek jalur kereta api tidak dibutuhkan di daerah tersebut, namun pemerintah menggantikanya dengan pembangunan yang mendesak seperti penyediaan air bersih. Dengan pemangkas proyek dalam PSN, namun tetap mencantumkannya dalam RPJMN, menurut Enny, menunjukkan adanya tumpang tindih perencanaan. Di sisi lain, ada proyek yang tidak ada dalam RPJMN namun masuk dalam PSN, seperti kereta api cepat. Padahal, dia mengatakan transparansi dokumen pembangunan ini penting untuk dijadikan acuan bagi dunia usaha untuk berinvestasi. \\\"Di dalam benak pelaku dunia usaha, dengan perencanaan yang sudah sematang itu saja, ternyata ketika ada perubahan rezim atau pemerintahan bisa berubah. Pertanyaannya ketika ada perencanaan pembangunan yang dokumentasinya tidak jelas itu bagaimana kesinambungan dari proyek-proyek itu, itu mungkin salah satu yang menjadi pertanyaan besar dan menjadikan mengapa komitmen berbagai komitmen percepatan infrastruktur ini tak kunjung membuat pelaku usaha confident untuk melakukan investasi,\\\" jelas dia. Enny juga mencontohkan Progam Master Plan Percepatan dan Perluasan Pembangunan Ekonomi Indonesia (MP3I) yang memiliki dokumen lengkap dan bisa diakses pihak yang berkepentingan, seperti para pengusaha. Enny mengatakan proyek insfrastuktur sebaiknya bersifat jangka panjang dan tidak berhenti pada suatu rezim atau pemerintahan. \\nSummary:\"\n",
      "  },\n",
      "  {\n",
      "    \"from\": \"gpt\",\n",
      "    \"value\": \"Presiden Jokowi memutuskan untuk menghapus 14 proyek dari daftar Proyek Stategis Nasional (PSN), setelah adanya evaluasi Komite Percepatan Penyediaan Infrastuktur Prioritas (KPPIP) Kementerian Koordinator Bidang Perekonomian. Namun pencoretan tersebut disebutkan bukan karena masalah anggaran, lebih pada kesiapan pelaksanaan proyek.\"\n",
      "  },\n",
      "  {\n",
      "    \"from\": \"human\",\n",
      "    \"value\": \"Provide a summary for the following article in its original language: \\nTitle: Gajah mengamuk saat upacara keagamaan, 17 orang terluka \\nContent: Dilaporkan dua orang terluka cukup serius, sementara sisanya sudah diperbolehkan pulang setelah mendapatkan perawatan. Video gajah yang mengamuk itu kontan viral di media sosial. Si gajah berlari tak tentu arah, menabrak serta menginjak sebagian peserta upacara. Simak juga: Belum diketahui penyebab gajah tersebut tiba-tiba mengamuk. Diduga gajah itu kaget oleh sesuatu di antara para peserta dan pengunjung. Media setempat melaporkan gajah lain yang juga mengamuk di prosesi berbeda. Gajah hias merupakan daya tarik tersendiri dalam upacara keagamaan di Sri Lanka. Bagi warga Sri Lanka, memiliki gajah adalah simbol status. Beberapa kuil di Sri Lanka juga memiliki gajah untuk keperluan upacara. \\nSummary:\"\n",
      "  },\n",
      "  {\n",
      "    \"from\": \"gpt\",\n",
      "    \"value\": \"Seekor gajah mendadak mengamuk saat prosesi tahunan agama Buddha di Kolombo, Sri Lanka, sehingga membuat peserta upacara tunggang-langgang. Setidaknya 17 orang terluka.\"\n",
      "  },\n",
      "  {\n",
      "    \"from\": \"human\",\n",
      "    \"value\": \"Provide a summary for the following article in its original language: \\nTitle: Rumah warga Palestina pembunuh polisi Israel dirusak \\nContent: Israel secara berkala menghancurkan rumah keluarga warga Palestina yang terbukti menyerang. Ketiganya menewaskan seorang polisi wanita pada bulan Februari dengan menggunakan pisau dan senapan. Para pria berumur 20-an tahun itu menyerang pasukan keamanan Israel di dekat pintu masuk Gerbang Damaskus ke Kota Tua Jerusalem pada permulaan Februari. Mereka menewaskan Hadar Cohen, 19 tahun, dan menyebabkan seorang perwira lainnya luka parah, sebelum ditembak mati polisi. Israel secara berkala menghancurkan rumah keluarga warga Palestina yang terbukti menyerang warga dan aparat keamanan Israel untuk untuk mencegah berlanjutnya kekerasan. Tetapi pegiat hak asasi manusia mengatakan kebijakan pemerintah Israel dapat dipandang sebagai penghukuman kolektif. Para kerabat pelaku serangan jadi dipaksa turut menderita karena tindakan anggota keluarganya. Serangkaian serangan Palestina dalam enam bulan terakhir menewaskan 28 warga Israel dan dua orang dari Amerika sementara paling tidak 188 warga Palestina tewas karena tembakan Israel. \\nSummary:\"\n",
      "  },\n",
      "  {\n",
      "    \"from\": \"gpt\",\n",
      "    \"value\": \"Pihak keamanan Israel menghancurkan rumah tiga warga Palestina yang dibunuh.\"\n",
      "  }\n",
      "]\n"
     ]
    }
   ],
   "source": [
    "# Print a sample conversation\n",
    "print(\"\\nSample conversation:\")\n",
    "print(json.dumps(processed_dataset[0]['conversations'], ensure_ascii=False, indent=2))"
   ]
  },
  {
   "cell_type": "code",
   "execution_count": 7,
   "id": "2ee7fe7f-875f-4d0d-9851-8cd4344ff142",
   "metadata": {},
   "outputs": [
    {
     "name": "stdout",
     "output_type": "stream",
     "text": [
      "\n",
      "Dataset info:\n",
      "Number of conversations: 15933\n",
      "Features: {'conversations': [{'from': Value(dtype='string', id=None), 'value': Value(dtype='string', id=None)}]}\n",
      "Datatype: <class 'datasets.arrow_dataset.Dataset'>\n"
     ]
    }
   ],
   "source": [
    "# Print dataset info\n",
    "print(\"\\nDataset info:\")\n",
    "print(f\"Number of conversations: {len(processed_dataset)}\")\n",
    "print(f\"Features: {processed_dataset.features}\")\n",
    "print(f\"Datatype: {type(processed_dataset)}\")"
   ]
  },
  {
   "cell_type": "code",
   "execution_count": 8,
   "id": "1ac3679c-fea0-47b2-8f46-cdffd1916571",
   "metadata": {},
   "outputs": [
    {
     "name": "stdout",
     "output_type": "stream",
     "text": [
      "Converted data saved to dataset/xlsum-indonesian/sharegpt_xlsum_indonesian.jsonl\n"
     ]
    }
   ],
   "source": [
    "# Save the converted data\n",
    "output_path = \"dataset/xlsum-indonesian/sharegpt_xlsum_indonesian.jsonl\"\n",
    "save_sharegpt_format(processed_dataset, output_path)\n",
    "print(f\"Converted data saved to {output_path}\")"
   ]
  },
  {
   "cell_type": "markdown",
   "id": "d296a8fd-b4fe-437c-992e-e218e47683fe",
   "metadata": {
    "jp-MarkdownHeadingCollapsed": true
   },
   "source": [
    "### Standardize"
   ]
  },
  {
   "cell_type": "code",
   "execution_count": 9,
   "id": "32f33bab-7b8e-4bd8-b34b-1bd95e3c957d",
   "metadata": {},
   "outputs": [
    {
     "name": "stdout",
     "output_type": "stream",
     "text": [
      "🦥 Unsloth: Will patch your computer to enable 2x faster free finetuning.\n",
      "🦥 Unsloth Zoo will now patch everything to make training faster!\n"
     ]
    },
    {
     "data": {
      "application/vnd.jupyter.widget-view+json": {
       "model_id": "6ea5f77bbe8949f5bf630c9fe739e07f",
       "version_major": 2,
       "version_minor": 0
      },
      "text/plain": [
       "Standardizing format:   0%|          | 0/15933 [00:00<?, ? examples/s]"
      ]
     },
     "metadata": {},
     "output_type": "display_data"
    }
   ],
   "source": [
    "from unsloth import standardize_sharegpt\n",
    "processed_dataset_std = standardize_sharegpt(processed_dataset)"
   ]
  },
  {
   "cell_type": "code",
   "execution_count": 10,
   "id": "8b149143-e4f8-4fce-a99e-9bdca877db26",
   "metadata": {
    "scrolled": true
   },
   "outputs": [
    {
     "name": "stdout",
     "output_type": "stream",
     "text": [
      "\n",
      "Sample conversation (standardized):\n",
      "[\n",
      "  {\n",
      "    \"content\": \"Provide a summary for the following article in its original language: \\nTitle: Apa alasan pemerintah pangkas 14 dalam daftar Proyek Strategis Nasional ? \\nContent: Proyek MRT Sudirman- Lebak Bulus tengah dikerjakan, namun untuk koridor Timur -Barat dicabut dari PSN. Pembangunan prasarana didengungkan sebagai ujung tombak pemerintahan Presiden Joko Widodo dengan sasaran 245 proyek hingga tahun 2019 mendatang namun setahun sebelum batas waktu itu, 14 di antaranya dicoret dari daftar Proyek Strategis Nasional dengan alasan pengerjaan fisiknya tidak dapat dimulai sebelum kuartal III-2019. Pemangkasan proyek tersebut dilakukan setelah adanya evaluasi KPPIP di Kementerian Koordinator Bidang Perekonomian. Ketua Tim Pelaksana KPPIP Wahyu Utomo mengatakan berdasarkan evaluasi proyek tersebut tidak dapat memenuhi kriteria. \\\"Nah kriteria yang kita pakai adalah utamanya kita minta proyek itu bisa dilakukan dimulai kontruksinya paling lambat sebelum kuartal III - 2019, jadi proyek yang tak bisa pekerjaan fisiknya sebelum kuartal III - 2019 kita usulkan statusnya kita lepas dulu sebagai PSN,\\\" jelas Wahyu. Empat belas proyek yang dikeluarkan dari daftar PSN ini memiliki nilai investasi sebesar Rp264 triliun. Wahyu menegaskan pencabutan proyek dari PSN itu bukan karena masalah anggaran. \\\"Tidak, coba Anda lihat datanya ya anggaran untuk infrastukrur itu makin meningkat setiap tahunnya, jadi tak ada hubungannya alasan bahwa karena tidak ada dana segala macam. \\\"Tapi upaya untuk mempercepatnya kita melibatkan swasta kita dorong, dari awal kita begitu niatnya. Uang APBN ini kita gunakan sebagai pendamping atau Viability Gap Funding untuk proyek kerja sama pemerintah swasta KPS,\\\" jelas dia. Sejumlah proyek yang dicabut dari PSN antara lain Kawasan Ekonomi Khusus (KEK) Merauke, MRT di Jakarta dan juga pembangunan jalan kereta api di wilayah Sumatera Selatan serta bandara di pulau Sebatik. \\\"Kajian Kementerian Perhubungan tidak dibutuhkan segera karena arus penumpang masih dapat ditampung di Bandara Nunukan yang letaknya berdekatan,\\\" kata Wahyu. Jokowi ketika memantau proyek Mass Rapid Transport (MRT) di Jakarta. Sementara proyek lain yang melibatkan anggaran dari donor, masih harus menyelesaikan syarat. \\\"Masalah eksternal, rencana mau dikasih pinjaman dari luar negeri sudah masuk tapi dari negara donor itu mensyaratkan ada kajian dulu, jadi ini kan jadi persyaratan untuk turunnya loan,\\\" jelas Wahyu. Sementara itu, untuk pembangunan kereta api di wilayah Sumatera Selatan akan tetap dilakukan namun menunggu kajian proyek selesai. Kabag Humas Pemerintah Provinsi Sumatera Selatan M Iqbal Alisyahbana mengatakan pencabutan proyek pembangunan sejumlah jalan kereta melintasi wilayahnya akan berdampak pada perekonomian daerahnya. \\\"Mau bagaimana lagi, mungkin pemerintah ada proyek lain yang lebih diprioritasnya, meski sebenarnya sangat bagus bagi perekonomian Sumsel dibangun tepat waktu ya,\\\" jelas Iqbal. Evaluasi penting agar tak sia-sia Pengamat kebijakan publik Agus Pambagyo menyebutkan evaluasi yang dilakukan oleh pemerintah terhadap proyek startegis penting dilakukan agar proyek yang dijalankan dapat berdampak pada ekonomi masyarakat dan juga tidak sia-sia. Dia menyoroti pembangunan kereta bandara dan juga sky train yang tidak dirasakan manfaatnya. \\\"Kebijakan membangun rel untuk kereta waktu itu setelah tujuh atau delapan tahun tidak ada kabarnya jadi dipakai oleh KRL. \\\"Kalau sekarang dibagi dua itu ada problem bagi KRL karena harus dikurangi, lalu ada perubahan desain dari sky train itu tadinya di dalam, jadi yang naik sky train sudah pegang boarding pass,\\\" jelas Agus. \\\"Apa bedanya sky train dengan bus Damri, itu yang saya tanyakan tapi ya dikerjakan terus\\\". Stasiun kereta bandara yang berada di Dukuh Atas, menurut Agus, juga membuat warga enggan untuk naik kereta terutama yang tinggal jauh dari pusat kota. Kecelakaan kerja terjadi di proyek tol Becakayu pada Februari lalu, melukai tujuh pekerja. Cegah proyek mangkrak Wahyu menjelaskan evaluasi dilakukan pemerintah untuk memastikan proyek lain yang dilakukan dapat dimulai pembangunannya sebelum pemerintahan berakhir pada akhir tahun ini. Apakah ini dilakukan untuk mencegah proyek mangkrak? \\\"Bisa dbilang begitu, karena kita tidak mau bicara proyek mangkrak ya, tapi kalau proyek itu sudah mulai itu akan lebih cenderung untuk terus dikerjakan. Itu saja sih. Kita tak ngomong begitu, karena proyek yang sudah dilepaskan statusnya dari PSN masih terus dikerjakan karena tidak dikeluarkan dari RPJMN,\\\" jelas Wahyu. Namun meski tidak lagi tercantum dalam PSN, menurut Wahyu, proyek-proyek tersebut masih termasuk dalam Rencana Pembangunan Jangka Menengah Nasional (RPJMN). Menurut Agus, evaluasi merupakan jalan yang terbaik untuk menghindari proyek mangkrak, karena Proyek Strategis Nasional dikerjakan berdasarkan peraturan presiden, sehingga sudah ditetapkan pelaksanaannya. \\\"Semua proyek biasanya pakai perpres karena percepatan, dari pada melanggar perpres jadi sebaiknya dibatalkan,\\\" kata Agus. Transparansi perencanaan Direktur Institute for Development of Economics and Finance (INDEF) Enny Sri Hartati mengatakan penentuan dan pemangkasan proyek dalam PSN merupakan wewenang pemerintah, namun yang penting keputusan tersebut harus dilakukan secara transparan. \\\"Yang utama adalah menurut saya, adalah mengapa 14 proyek itu dtunda, penundaan itu apakah disebabkan pemerintah mengalihkan itu,\\\" ujar Enny. Enny mengatakan yang harus dijelaskan misalnya dalam evaluasi ternyata proyek jalur kereta api tidak dibutuhkan di daerah tersebut, namun pemerintah menggantikanya dengan pembangunan yang mendesak seperti penyediaan air bersih. Dengan pemangkas proyek dalam PSN, namun tetap mencantumkannya dalam RPJMN, menurut Enny, menunjukkan adanya tumpang tindih perencanaan. Di sisi lain, ada proyek yang tidak ada dalam RPJMN namun masuk dalam PSN, seperti kereta api cepat. Padahal, dia mengatakan transparansi dokumen pembangunan ini penting untuk dijadikan acuan bagi dunia usaha untuk berinvestasi. \\\"Di dalam benak pelaku dunia usaha, dengan perencanaan yang sudah sematang itu saja, ternyata ketika ada perubahan rezim atau pemerintahan bisa berubah. Pertanyaannya ketika ada perencanaan pembangunan yang dokumentasinya tidak jelas itu bagaimana kesinambungan dari proyek-proyek itu, itu mungkin salah satu yang menjadi pertanyaan besar dan menjadikan mengapa komitmen berbagai komitmen percepatan infrastruktur ini tak kunjung membuat pelaku usaha confident untuk melakukan investasi,\\\" jelas dia. Enny juga mencontohkan Progam Master Plan Percepatan dan Perluasan Pembangunan Ekonomi Indonesia (MP3I) yang memiliki dokumen lengkap dan bisa diakses pihak yang berkepentingan, seperti para pengusaha. Enny mengatakan proyek insfrastuktur sebaiknya bersifat jangka panjang dan tidak berhenti pada suatu rezim atau pemerintahan. \\nSummary:\",\n",
      "    \"role\": \"user\"\n",
      "  },\n",
      "  {\n",
      "    \"content\": \"Presiden Jokowi memutuskan untuk menghapus 14 proyek dari daftar Proyek Stategis Nasional (PSN), setelah adanya evaluasi Komite Percepatan Penyediaan Infrastuktur Prioritas (KPPIP) Kementerian Koordinator Bidang Perekonomian. Namun pencoretan tersebut disebutkan bukan karena masalah anggaran, lebih pada kesiapan pelaksanaan proyek.\",\n",
      "    \"role\": \"assistant\"\n",
      "  },\n",
      "  {\n",
      "    \"content\": \"Provide a summary for the following article in its original language: \\nTitle: Gajah mengamuk saat upacara keagamaan, 17 orang terluka \\nContent: Dilaporkan dua orang terluka cukup serius, sementara sisanya sudah diperbolehkan pulang setelah mendapatkan perawatan. Video gajah yang mengamuk itu kontan viral di media sosial. Si gajah berlari tak tentu arah, menabrak serta menginjak sebagian peserta upacara. Simak juga: Belum diketahui penyebab gajah tersebut tiba-tiba mengamuk. Diduga gajah itu kaget oleh sesuatu di antara para peserta dan pengunjung. Media setempat melaporkan gajah lain yang juga mengamuk di prosesi berbeda. Gajah hias merupakan daya tarik tersendiri dalam upacara keagamaan di Sri Lanka. Bagi warga Sri Lanka, memiliki gajah adalah simbol status. Beberapa kuil di Sri Lanka juga memiliki gajah untuk keperluan upacara. \\nSummary:\",\n",
      "    \"role\": \"user\"\n",
      "  },\n",
      "  {\n",
      "    \"content\": \"Seekor gajah mendadak mengamuk saat prosesi tahunan agama Buddha di Kolombo, Sri Lanka, sehingga membuat peserta upacara tunggang-langgang. Setidaknya 17 orang terluka.\",\n",
      "    \"role\": \"assistant\"\n",
      "  },\n",
      "  {\n",
      "    \"content\": \"Provide a summary for the following article in its original language: \\nTitle: Rumah warga Palestina pembunuh polisi Israel dirusak \\nContent: Israel secara berkala menghancurkan rumah keluarga warga Palestina yang terbukti menyerang. Ketiganya menewaskan seorang polisi wanita pada bulan Februari dengan menggunakan pisau dan senapan. Para pria berumur 20-an tahun itu menyerang pasukan keamanan Israel di dekat pintu masuk Gerbang Damaskus ke Kota Tua Jerusalem pada permulaan Februari. Mereka menewaskan Hadar Cohen, 19 tahun, dan menyebabkan seorang perwira lainnya luka parah, sebelum ditembak mati polisi. Israel secara berkala menghancurkan rumah keluarga warga Palestina yang terbukti menyerang warga dan aparat keamanan Israel untuk untuk mencegah berlanjutnya kekerasan. Tetapi pegiat hak asasi manusia mengatakan kebijakan pemerintah Israel dapat dipandang sebagai penghukuman kolektif. Para kerabat pelaku serangan jadi dipaksa turut menderita karena tindakan anggota keluarganya. Serangkaian serangan Palestina dalam enam bulan terakhir menewaskan 28 warga Israel dan dua orang dari Amerika sementara paling tidak 188 warga Palestina tewas karena tembakan Israel. \\nSummary:\",\n",
      "    \"role\": \"user\"\n",
      "  },\n",
      "  {\n",
      "    \"content\": \"Pihak keamanan Israel menghancurkan rumah tiga warga Palestina yang dibunuh.\",\n",
      "    \"role\": \"assistant\"\n",
      "  }\n",
      "]\n"
     ]
    }
   ],
   "source": [
    "print(\"\\nSample conversation (standardized):\")\n",
    "print(json.dumps(processed_dataset_std[0]['conversations'], ensure_ascii=False, indent=2))"
   ]
  },
  {
   "cell_type": "markdown",
   "id": "a119e7fb-b189-48a8-bd1c-7b5c97c254fc",
   "metadata": {
    "jp-MarkdownHeadingCollapsed": true
   },
   "source": [
    "## Training"
   ]
  },
  {
   "cell_type": "markdown",
   "id": "661e7da4-ba85-4b21-82ae-24ce5db00d0c",
   "metadata": {},
   "source": [
    "### Load Model"
   ]
  },
  {
   "cell_type": "code",
   "execution_count": null,
   "id": "57de1d57-6d9f-455f-bbbe-6ee9b7b6003a",
   "metadata": {},
   "outputs": [],
   "source": [
    "from unsloth import FastLanguageModel\n",
    "import torch\n",
    "max_seq_length = 2048 # Choose any! We auto support RoPE Scaling internally!\n",
    "dtype = None # None for auto detection. Float16 for Tesla T4, V100, Bfloat16 for Ampere+\n",
    "load_in_4bit = True # Use 4bit quantization to reduce memory usage. Can be False.\n",
    "\n",
    "# 4bit pre quantized models we support for 4x faster downloading + no OOMs.\n",
    "# fourbit_models = [\n",
    "#     \"unsloth/Meta-Llama-3.1-8B-bnb-4bit\",      # Llama-3.1 2x faster\n",
    "#     \"unsloth/Meta-Llama-3.1-8B-Instruct-bnb-4bit\",\n",
    "#     \"unsloth/Meta-Llama-3.1-70B-bnb-4bit\",\n",
    "#     \"unsloth/Meta-Llama-3.1-405B-bnb-4bit\",    # 4bit for 405b!\n",
    "#     \"unsloth/Mistral-Small-Instruct-2409\",     # Mistral 22b 2x faster!\n",
    "#     \"unsloth/mistral-7b-instruct-v0.3-bnb-4bit\",\n",
    "#     \"unsloth/Phi-3.5-mini-instruct\",           # Phi-3.5 2x faster!\n",
    "#     \"unsloth/Phi-3-medium-4k-instruct\",\n",
    "#     \"unsloth/gemma-2-9b-bnb-4bit\",\n",
    "#     \"unsloth/gemma-2-27b-bnb-4bit\",            # Gemma 2x faster!\n",
    "\n",
    "#     \"unsloth/Llama-3.2-1B-bnb-4bit\",           # NEW! Llama 3.2 models\n",
    "#     \"unsloth/Llama-3.2-1B-Instruct-bnb-4bit\",\n",
    "#     \"unsloth/Llama-3.2-3B-bnb-4bit\",\n",
    "#     \"unsloth/Llama-3.2-3B-Instruct-bnb-4bit\",\n",
    "# ] # More models at https://huggingface.co/unsloth\n",
    "\n",
    "model, tokenizer = FastLanguageModel.from_pretrained(\n",
    "    model_name = \"unsloth/Llama-3.2-3B-Instruct\", # or choose \"unsloth/Llama-3.2-1B-Instruct\"\n",
    "    max_seq_length = max_seq_length,\n",
    "    dtype = dtype,\n",
    "    load_in_4bit = load_in_4bit,\n",
    "    # token = \"hf_...\", # use one if using gated models like meta-llama/Llama-2-7b-hf\n",
    ")"
   ]
  },
  {
   "cell_type": "code",
   "execution_count": null,
   "id": "1db3ec40-f8bb-4610-aaff-31fafaf4d273",
   "metadata": {},
   "outputs": [],
   "source": [
    "model = FastLanguageModel.get_peft_model(\n",
    "    model,\n",
    "    r = 16, # Choose any number > 0 ! Suggested 8, 16, 32, 64, 128\n",
    "    target_modules = [\"q_proj\", \"k_proj\", \"v_proj\", \"o_proj\",\n",
    "                      \"gate_proj\", \"up_proj\", \"down_proj\",],\n",
    "    lora_alpha = 16,\n",
    "    lora_dropout = 0, # Supports any, but = 0 is optimized\n",
    "    bias = \"none\",    # Supports any, but = \"none\" is optimized\n",
    "    # [NEW] \"unsloth\" uses 30% less VRAM, fits 2x larger batch sizes!\n",
    "    use_gradient_checkpointing = \"unsloth\", # True or \"unsloth\" for very long context\n",
    "    random_state = 3407,\n",
    "    use_rslora = False,  # We support rank stabilized LoRA\n",
    "    loftq_config = None, # And LoftQ\n",
    ")"
   ]
  },
  {
   "cell_type": "markdown",
   "id": "54e7927b-c23f-46f9-9aa8-6d8b1bf2ca43",
   "metadata": {},
   "source": [
    "### Chat Template"
   ]
  },
  {
   "cell_type": "code",
   "execution_count": null,
   "id": "13f5539b-74b6-4e38-a6fe-aef70c1bceed",
   "metadata": {},
   "outputs": [],
   "source": [
    "from unsloth.chat_templates import get_chat_template\n",
    "\n",
    "tokenizer = get_chat_template(\n",
    "    tokenizer,\n",
    "    chat_template = \"llama-3.1\",\n",
    ")\n",
    "\n",
    "def formatting_prompts_func(examples):\n",
    "    convos = examples[\"conversations\"]\n",
    "    texts = [tokenizer.apply_chat_template(convo, tokenize = False, add_generation_prompt = False) for convo in convos]\n",
    "    return { \"text\" : texts, }\n",
    "pass"
   ]
  },
  {
   "cell_type": "code",
   "execution_count": null,
   "id": "21eafce0-dee2-4e13-9485-22d2c4d49de0",
   "metadata": {},
   "outputs": [],
   "source": [
    "processed_dataset_std = processed_dataset_std.map(formatting_prompts_func, batched = True,)"
   ]
  },
  {
   "cell_type": "code",
   "execution_count": null,
   "id": "e8cd4678-01d0-437b-85f0-072d54fc38bb",
   "metadata": {},
   "outputs": [],
   "source": [
    "processed_dataset_std[5][\"conversations\"]"
   ]
  },
  {
   "cell_type": "code",
   "execution_count": null,
   "id": "f033064a-5e70-413d-8182-4e0330c565be",
   "metadata": {},
   "outputs": [],
   "source": [
    "processed_dataset_std[5][\"text\"]"
   ]
  },
  {
   "cell_type": "markdown",
   "id": "30fbf9db-fe9a-460a-b2b0-bd67db386c33",
   "metadata": {},
   "source": [
    "### Training"
   ]
  },
  {
   "cell_type": "code",
   "execution_count": null,
   "id": "8c9c6dc2-ca94-4e46-b1ad-032a4e1f23d5",
   "metadata": {},
   "outputs": [],
   "source": [
    "from trl import SFTTrainer\n",
    "from transformers import TrainingArguments, DataCollatorForSeq2Seq\n",
    "from unsloth import is_bfloat16_supported\n",
    "\n",
    "trainer = SFTTrainer(\n",
    "    model = model,\n",
    "    tokenizer = tokenizer,\n",
    "    train_dataset = processed_dataset_std,\n",
    "    dataset_text_field = \"text\",\n",
    "    max_seq_length = max_seq_length,\n",
    "    data_collator = DataCollatorForSeq2Seq(tokenizer = tokenizer),\n",
    "    dataset_num_proc = 2,\n",
    "    packing = False, # Can make training 5x faster for short sequences.\n",
    "    args = TrainingArguments(\n",
    "        per_device_train_batch_size = 2,\n",
    "        gradient_accumulation_steps = 4,\n",
    "        warmup_steps = 5,\n",
    "        num_train_epochs = 1, # Set this for 1 full training run.\n",
    "        # max_steps =None,\n",
    "        learning_rate = 2e-4,\n",
    "        fp16 = not is_bfloat16_supported(),\n",
    "        bf16 = is_bfloat16_supported(),\n",
    "        logging_steps = 1,\n",
    "        optim = \"adamw_8bit\",\n",
    "        weight_decay = 0.01,\n",
    "        lr_scheduler_type = \"linear\",\n",
    "        seed = 3407,\n",
    "        output_dir = \"outputs\",\n",
    "        save_strategy = \"steps\",\n",
    "        save_steps = 1000,\n",
    "        report_to = \"none\", # Use this for WandB etc\n",
    "    ),\n",
    ")"
   ]
  },
  {
   "cell_type": "code",
   "execution_count": null,
   "id": "3bccf9fb-fd59-4660-a1ff-793c7dec4125",
   "metadata": {},
   "outputs": [],
   "source": [
    "from unsloth.chat_templates import train_on_responses_only\n",
    "trainer = train_on_responses_only(\n",
    "    trainer,\n",
    "    instruction_part = \"<|start_header_id|>user<|end_header_id|>\\n\\n\",\n",
    "    response_part = \"<|start_header_id|>assistant<|end_header_id|>\\n\\n\",\n",
    ")"
   ]
  },
  {
   "cell_type": "code",
   "execution_count": null,
   "id": "bd1eda55-5c4a-4a18-9ed7-d8f5a97aa019",
   "metadata": {},
   "outputs": [],
   "source": [
    "tokenizer.decode(trainer.train_dataset[5][\"input_ids\"])"
   ]
  },
  {
   "cell_type": "code",
   "execution_count": null,
   "id": "535f9a9f-3703-4a26-bc4a-ac3bb9ab7c1a",
   "metadata": {},
   "outputs": [],
   "source": [
    "space = tokenizer(\" \", add_special_tokens = False).input_ids[0]\n",
    "tokenizer.decode([space if x == -100 else x for x in trainer.train_dataset[5][\"labels\"]])"
   ]
  },
  {
   "cell_type": "markdown",
   "id": "59a2fec6-1184-4922-9945-2258b8ee0beb",
   "metadata": {},
   "source": [
    "#### Show memory stats"
   ]
  },
  {
   "cell_type": "code",
   "execution_count": null,
   "id": "5feb1c53-5b4a-4c4c-87a6-09dad9f52d29",
   "metadata": {},
   "outputs": [],
   "source": [
    "#@title Show current memory stats\n",
    "gpu_stats = torch.cuda.get_device_properties(0)\n",
    "start_gpu_memory = round(torch.cuda.max_memory_reserved() / 1024 / 1024 / 1024, 3)\n",
    "max_memory = round(gpu_stats.total_memory / 1024 / 1024 / 1024, 3)\n",
    "print(f\"GPU = {gpu_stats.name}. Max memory = {max_memory} GB.\")\n",
    "print(f\"{start_gpu_memory} GB of memory reserved.\")"
   ]
  },
  {
   "cell_type": "markdown",
   "id": "1512ca5e-718c-444a-a09e-1741e8e6bd1d",
   "metadata": {},
   "source": [
    "#### Train"
   ]
  },
  {
   "cell_type": "code",
   "execution_count": null,
   "id": "d87f8212-8b6a-4c71-ba5a-745b06132ed6",
   "metadata": {},
   "outputs": [],
   "source": [
    "# use this to train from scratch\n",
    "trainer_stats = trainer.train()\n",
    "\n",
    "# use this to train from checkpoint\n",
    "# trainer_stats = trainer.train(resume_from_checkpoint = True)\n"
   ]
  },
  {
   "cell_type": "markdown",
   "id": "cfd16d52-43b3-4d53-9623-f4400e64e629",
   "metadata": {},
   "source": [
    "#### Final Memory anf Time Stats"
   ]
  },
  {
   "cell_type": "code",
   "execution_count": null,
   "id": "e23fa717-8925-49fb-97f3-d7475db1de86",
   "metadata": {},
   "outputs": [],
   "source": [
    "#@title Show final memory and time stats\n",
    "used_memory = round(torch.cuda.max_memory_reserved() / 1024 / 1024 / 1024, 3)\n",
    "used_memory_for_lora = round(used_memory - start_gpu_memory, 3)\n",
    "used_percentage = round(used_memory         /max_memory*100, 3)\n",
    "lora_percentage = round(used_memory_for_lora/max_memory*100, 3)\n",
    "print(f\"{trainer_stats.metrics['train_runtime']} seconds used for training.\")\n",
    "print(f\"{round(trainer_stats.metrics['train_runtime']/60, 2)} minutes used for training.\")\n",
    "print(f\"Peak reserved memory = {used_memory} GB.\")\n",
    "print(f\"Peak reserved memory for training = {used_memory_for_lora} GB.\")\n",
    "print(f\"Peak reserved memory % of max memory = {used_percentage} %.\")\n",
    "print(f\"Peak reserved memory for training % of max memory = {lora_percentage} %.\")"
   ]
  }
 ],
 "metadata": {
  "kernelspec": {
   "display_name": "Python 3 (ipykernel)",
   "language": "python",
   "name": "python3"
  },
  "language_info": {
   "codemirror_mode": {
    "name": "ipython",
    "version": 3
   },
   "file_extension": ".py",
   "mimetype": "text/x-python",
   "name": "python",
   "nbconvert_exporter": "python",
   "pygments_lexer": "ipython3",
   "version": "3.11.10"
  }
 },
 "nbformat": 4,
 "nbformat_minor": 5
}
